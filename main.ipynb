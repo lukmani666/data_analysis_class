{
 "cells": [
  {
   "cell_type": "code",
   "execution_count": 1,
   "id": "2550145d-5860-4a25-8193-5f2843dc3e30",
   "metadata": {},
   "outputs": [],
   "source": [
    "import numpy as np\n",
    "import pandas as pd"
   ]
  },
  {
   "cell_type": "code",
   "execution_count": 2,
   "id": "a142d3f1-36f7-40ad-b3f7-a2fb9e29b11d",
   "metadata": {},
   "outputs": [
    {
     "name": "stdout",
     "output_type": "stream",
     "text": [
      "[1 2 3 4 5 6 7]\n"
     ]
    }
   ],
   "source": [
    "#create an array\n",
    "arr = np.array([1, 2, 3, 4, 5, 6, 7])\n",
    "print(arr)"
   ]
  },
  {
   "cell_type": "code",
   "execution_count": 3,
   "id": "a2ff2666-7e82-4fb3-9084-f924dc475470",
   "metadata": {},
   "outputs": [
    {
     "name": "stdout",
     "output_type": "stream",
     "text": [
      "[[0. 0. 0.]\n",
      " [0. 0. 0.]]\n",
      "[[1. 1.]\n",
      " [1. 1.]\n",
      " [1. 1.]]\n"
     ]
    }
   ],
   "source": [
    "#array of zeros or ones\n",
    "zeros = np.zeros((2, 3))\n",
    "ones = np.ones((3, 2))\n",
    "print(zeros)\n",
    "print(ones)"
   ]
  },
  {
   "cell_type": "code",
   "execution_count": 4,
   "id": "46a6ec76-1b16-444f-9d3f-0baab1325ddd",
   "metadata": {},
   "outputs": [
    {
     "name": "stdout",
     "output_type": "stream",
     "text": [
      "First output: [ 1  3  5  7  9 11 13 15 17 19]\n",
      "Second ouput: [[ 0  1  2  3]\n",
      " [ 4  5  6  7]\n",
      " [ 8  9 10 11]]\n"
     ]
    }
   ],
   "source": [
    "#numpy range and reshape\n",
    "r_arr = np.arange(1, 20, 2)\n",
    "rsh = np.arange(12).reshape(3, 4)\n",
    "\n",
    "print(\"First output:\", r_arr)\n",
    "print(\"Second ouput:\", rsh)"
   ]
  },
  {
   "cell_type": "code",
   "execution_count": 5,
   "id": "104b5d18-1c23-4fbd-b161-a381e4ebb76d",
   "metadata": {},
   "outputs": [
    {
     "name": "stdout",
     "output_type": "stream",
     "text": [
      "[11 22 33 44]\n",
      "[ 10  40  90 160]\n"
     ]
    }
   ],
   "source": [
    "#basic math\n",
    "a = np.array([10, 20, 30, 40])\n",
    "b = np.array([1, 2, 3, 4])\n",
    "\n",
    "print(a + b)\n",
    "print(a * b)"
   ]
  },
  {
   "cell_type": "code",
   "execution_count": 6,
   "id": "bb86a27a-54cf-4fcd-8584-a5641a77eacd",
   "metadata": {},
   "outputs": [
    {
     "name": "stdout",
     "output_type": "stream",
     "text": [
      "0    10\n",
      "1    20\n",
      "2    30\n",
      "3    40\n",
      "4    50\n",
      "dtype: int64\n"
     ]
    }
   ],
   "source": [
    "#creating series in pandas\n",
    "series = pd.Series([10, 20, 30, 40, 50], copy=\"numbers\")\n",
    "print(series)"
   ]
  },
  {
   "cell_type": "code",
   "execution_count": 7,
   "id": "14c3306e-9629-4e56-b44f-43c46c7a919c",
   "metadata": {},
   "outputs": [
    {
     "name": "stdout",
     "output_type": "stream",
     "text": [
      "      Name  Age  Salary  Height\n",
      "0    Alice   25   50000   25.50\n",
      "1      Bob   30   65000   30.25\n",
      "2  Chalies   40   80000   38.27\n"
     ]
    }
   ],
   "source": [
    "#creating dataframe in pandas\n",
    "data = {\n",
    "    \"Name\": [\"Alice\", \"Bob\", \"Chalies\"],\n",
    "    \"Age\": [25, 30, 40],\n",
    "    \"Salary\": [50000, 65000, 80000]\n",
    "}\n",
    "\n",
    "df = pd.DataFrame(data)\n",
    "df[\"Height\"] = [25.50, 30.25, 38.27]\n",
    "print(df)\n"
   ]
  },
  {
   "cell_type": "code",
   "execution_count": 8,
   "id": "0309ca6c-d087-43d0-bc44-ac662eec58f2",
   "metadata": {},
   "outputs": [
    {
     "name": "stdout",
     "output_type": "stream",
     "text": [
      "      Name  Age  Salary  Height\n",
      "1      Bob   30   65000   30.25\n",
      "2  Chalies   40   80000   38.27\n"
     ]
    }
   ],
   "source": [
    "#filtering data in pandas\n",
    "df = df[df[\"Age\"] >= 30]\n",
    "print(df)"
   ]
  },
  {
   "cell_type": "code",
   "execution_count": 9,
   "id": "36a3e1a7-ef88-4098-bf65-9d1dcef87e28",
   "metadata": {},
   "outputs": [
    {
     "data": {
      "text/html": [
       "<div>\n",
       "<style scoped>\n",
       "    .dataframe tbody tr th:only-of-type {\n",
       "        vertical-align: middle;\n",
       "    }\n",
       "\n",
       "    .dataframe tbody tr th {\n",
       "        vertical-align: top;\n",
       "    }\n",
       "\n",
       "    .dataframe thead th {\n",
       "        text-align: right;\n",
       "    }\n",
       "</style>\n",
       "<table border=\"1\" class=\"dataframe\">\n",
       "  <thead>\n",
       "    <tr style=\"text-align: right;\">\n",
       "      <th></th>\n",
       "      <th>Department</th>\n",
       "      <th>Salary</th>\n",
       "      <th>Bonus</th>\n",
       "    </tr>\n",
       "  </thead>\n",
       "  <tbody>\n",
       "    <tr>\n",
       "      <th>0</th>\n",
       "      <td>IT</td>\n",
       "      <td>50000</td>\n",
       "      <td>5000</td>\n",
       "    </tr>\n",
       "    <tr>\n",
       "      <th>1</th>\n",
       "      <td>HR</td>\n",
       "      <td>40000</td>\n",
       "      <td>2000</td>\n",
       "    </tr>\n",
       "    <tr>\n",
       "      <th>2</th>\n",
       "      <td>IT</td>\n",
       "      <td>45000</td>\n",
       "      <td>3000</td>\n",
       "    </tr>\n",
       "    <tr>\n",
       "      <th>3</th>\n",
       "      <td>HR</td>\n",
       "      <td>55000</td>\n",
       "      <td>4000</td>\n",
       "    </tr>\n",
       "    <tr>\n",
       "      <th>4</th>\n",
       "      <td>Finance</td>\n",
       "      <td>42000</td>\n",
       "      <td>5500</td>\n",
       "    </tr>\n",
       "    <tr>\n",
       "      <th>5</th>\n",
       "      <td>HR</td>\n",
       "      <td>46000</td>\n",
       "      <td>2500</td>\n",
       "    </tr>\n",
       "    <tr>\n",
       "      <th>6</th>\n",
       "      <td>IT</td>\n",
       "      <td>58000</td>\n",
       "      <td>1500</td>\n",
       "    </tr>\n",
       "    <tr>\n",
       "      <th>7</th>\n",
       "      <td>Finance</td>\n",
       "      <td>65000</td>\n",
       "      <td>2000</td>\n",
       "    </tr>\n",
       "    <tr>\n",
       "      <th>8</th>\n",
       "      <td>HR</td>\n",
       "      <td>68000</td>\n",
       "      <td>3000</td>\n",
       "    </tr>\n",
       "    <tr>\n",
       "      <th>9</th>\n",
       "      <td>IT</td>\n",
       "      <td>55000</td>\n",
       "      <td>3500</td>\n",
       "    </tr>\n",
       "  </tbody>\n",
       "</table>\n",
       "</div>"
      ],
      "text/plain": [
       "  Department  Salary  Bonus\n",
       "0         IT   50000   5000\n",
       "1         HR   40000   2000\n",
       "2         IT   45000   3000\n",
       "3         HR   55000   4000\n",
       "4    Finance   42000   5500\n",
       "5         HR   46000   2500\n",
       "6         IT   58000   1500\n",
       "7    Finance   65000   2000\n",
       "8         HR   68000   3000\n",
       "9         IT   55000   3500"
      ]
     },
     "execution_count": 9,
     "metadata": {},
     "output_type": "execute_result"
    }
   ],
   "source": [
    "#grouping data using pandas groupby\n",
    "group_data = {\n",
    "    \"Department\": ['IT', 'HR', 'IT', 'HR', 'Finance', 'HR', 'IT', 'Finance', 'HR', 'IT'],\n",
    "    \"Salary\": [50000, 40000, 45000, 55000, 42000, 46000, 58000, 65000, 68000, 55000],\n",
    "    \"Bonus\": [5000, 2000, 3000, 4000, 5500, 2500, 1500, 2000, 3000, 3500]\n",
    "}\n",
    "\n",
    "df = pd.DataFrame(group_data)\n",
    "df.head(10)"
   ]
  },
  {
   "cell_type": "code",
   "execution_count": 10,
   "id": "2eb16d19-e1c0-4e3b-86d6-8abbf86b6175",
   "metadata": {},
   "outputs": [
    {
     "name": "stdout",
     "output_type": "stream",
     "text": [
      "Department\n",
      "Finance    53500.0\n",
      "HR         52250.0\n",
      "IT         52000.0\n",
      "Name: Salary, dtype: float64\n",
      "Department\n",
      "Finance    107000\n",
      "HR         209000\n",
      "IT         208000\n",
      "Name: Salary, dtype: int64\n",
      "Department\n",
      "Finance    2\n",
      "HR         4\n",
      "IT         4\n",
      "Name: Salary, dtype: int64\n"
     ]
    }
   ],
   "source": [
    "avg_group = df.groupby('Department')['Salary'].mean()\n",
    "print(avg_group)\n",
    "\n",
    "sum_group = df.groupby('Department')['Salary'].sum()\n",
    "print(sum_group)\n",
    "\n",
    "count_group = df.groupby('Department')['Salary'].count()\n",
    "print(count_group)"
   ]
  },
  {
   "cell_type": "code",
   "execution_count": 11,
   "id": "d74a14b1-6ad9-41de-9b2f-cfd0d2b55363",
   "metadata": {},
   "outputs": [
    {
     "name": "stdout",
     "output_type": "stream",
     "text": [
      "   EmployeeID  Salary   Name  Age  Gender  Height Department\n",
      "0           1   50000  Alice   25  Female   20.25         IT\n",
      "1           3   30000  Janet   30    Male   23.45         HR\n"
     ]
    }
   ],
   "source": [
    "#merging data using pandas merge\n",
    "data1 = {\n",
    "    \"EmployeeID\": [1, 2, 3],\n",
    "    \"Salary\": [50000, 40000, 30000],\n",
    "    \"Name\": [\"Alice\", \"John\", \"Janet\"]\n",
    "}\n",
    "\n",
    "data2 = {\n",
    "    \"EmployeeID\": [1, 3, 5],\n",
    "    \"Age\": [25, 30, 32],\n",
    "    \"Gender\": [\"Female\", \"Male\", \"Female\"]\n",
    "}\n",
    "\n",
    "data3 = {\n",
    "    \"EmployeeID\": [1, 3, 6],\n",
    "    \"Height\": [20.25, 23.45, 29.65],\n",
    "    \"Department\": [\"IT\", \"HR\", \"Finance\"]\n",
    "}\n",
    "\n",
    "df1 = pd.DataFrame(data1)\n",
    "df2 = pd.DataFrame(data2)\n",
    "df3 = pd.DataFrame(data3)\n",
    "\n",
    "merge_data = pd.merge(df1, df2, on=\"EmployeeID\")\n",
    "last_merge_data = pd.merge(merge_data, df3, on=\"EmployeeID\")\n",
    "print(last_merge_data)"
   ]
  },
  {
   "cell_type": "code",
   "execution_count": 12,
   "id": "7468b6f8-2dff-4ec4-b772-7bae78a09eaa",
   "metadata": {},
   "outputs": [
    {
     "data": {
      "text/plain": [
       "Name      2\n",
       "Age       2\n",
       "Height    2\n",
       "dtype: int64"
      ]
     },
     "execution_count": 12,
     "metadata": {},
     "output_type": "execute_result"
    }
   ],
   "source": [
    "#handling missing values using pandas\n",
    "df = pd.DataFrame({\n",
    "    \"Name\": [\"Alice\", np.nan, \"Chalie\", np.nan, \"Janet\"],\n",
    "    \"Age\": [np.nan, 20, 25, 30, np.nan],\n",
    "    \"Height\": [25.50, 30.45, np.nan, 35.65, np.nan]\n",
    "})\n",
    "\n",
    "\n",
    "df.isnull().sum()"
   ]
  },
  {
   "cell_type": "code",
   "execution_count": 13,
   "id": "586b0129-cb62-4923-9020-8d7ef58db57b",
   "metadata": {},
   "outputs": [
    {
     "data": {
      "text/html": [
       "<div>\n",
       "<style scoped>\n",
       "    .dataframe tbody tr th:only-of-type {\n",
       "        vertical-align: middle;\n",
       "    }\n",
       "\n",
       "    .dataframe tbody tr th {\n",
       "        vertical-align: top;\n",
       "    }\n",
       "\n",
       "    .dataframe thead th {\n",
       "        text-align: right;\n",
       "    }\n",
       "</style>\n",
       "<table border=\"1\" class=\"dataframe\">\n",
       "  <thead>\n",
       "    <tr style=\"text-align: right;\">\n",
       "      <th></th>\n",
       "      <th>Name</th>\n",
       "      <th>Age</th>\n",
       "      <th>Height</th>\n",
       "    </tr>\n",
       "  </thead>\n",
       "  <tbody>\n",
       "    <tr>\n",
       "      <th>0</th>\n",
       "      <td>Alice</td>\n",
       "      <td>NaN</td>\n",
       "      <td>25.50</td>\n",
       "    </tr>\n",
       "    <tr>\n",
       "      <th>1</th>\n",
       "      <td>NaN</td>\n",
       "      <td>20.0</td>\n",
       "      <td>30.45</td>\n",
       "    </tr>\n",
       "    <tr>\n",
       "      <th>2</th>\n",
       "      <td>Chalie</td>\n",
       "      <td>25.0</td>\n",
       "      <td>NaN</td>\n",
       "    </tr>\n",
       "    <tr>\n",
       "      <th>3</th>\n",
       "      <td>NaN</td>\n",
       "      <td>30.0</td>\n",
       "      <td>35.65</td>\n",
       "    </tr>\n",
       "    <tr>\n",
       "      <th>4</th>\n",
       "      <td>Janet</td>\n",
       "      <td>NaN</td>\n",
       "      <td>NaN</td>\n",
       "    </tr>\n",
       "  </tbody>\n",
       "</table>\n",
       "</div>"
      ],
      "text/plain": [
       "     Name   Age  Height\n",
       "0   Alice   NaN   25.50\n",
       "1     NaN  20.0   30.45\n",
       "2  Chalie  25.0     NaN\n",
       "3     NaN  30.0   35.65\n",
       "4   Janet   NaN     NaN"
      ]
     },
     "execution_count": 13,
     "metadata": {},
     "output_type": "execute_result"
    }
   ],
   "source": [
    "df.head()"
   ]
  },
  {
   "cell_type": "code",
   "execution_count": 14,
   "id": "50d389f4-8975-405d-a641-d7812c7aac4f",
   "metadata": {},
   "outputs": [
    {
     "data": {
      "text/html": [
       "<div>\n",
       "<style scoped>\n",
       "    .dataframe tbody tr th:only-of-type {\n",
       "        vertical-align: middle;\n",
       "    }\n",
       "\n",
       "    .dataframe tbody tr th {\n",
       "        vertical-align: top;\n",
       "    }\n",
       "\n",
       "    .dataframe thead th {\n",
       "        text-align: right;\n",
       "    }\n",
       "</style>\n",
       "<table border=\"1\" class=\"dataframe\">\n",
       "  <thead>\n",
       "    <tr style=\"text-align: right;\">\n",
       "      <th></th>\n",
       "      <th>Name</th>\n",
       "      <th>Age</th>\n",
       "      <th>Height</th>\n",
       "    </tr>\n",
       "  </thead>\n",
       "  <tbody>\n",
       "  </tbody>\n",
       "</table>\n",
       "</div>"
      ],
      "text/plain": [
       "Empty DataFrame\n",
       "Columns: [Name, Age, Height]\n",
       "Index: []"
      ]
     },
     "execution_count": 14,
     "metadata": {},
     "output_type": "execute_result"
    }
   ],
   "source": [
    "drop_null = df.dropna()\n",
    "drop_null.head()"
   ]
  },
  {
   "cell_type": "code",
   "execution_count": 17,
   "id": "bee742dd-a79f-41db-84a7-ecb65a910f6e",
   "metadata": {},
   "outputs": [
    {
     "data": {
      "text/html": [
       "<div>\n",
       "<style scoped>\n",
       "    .dataframe tbody tr th:only-of-type {\n",
       "        vertical-align: middle;\n",
       "    }\n",
       "\n",
       "    .dataframe tbody tr th {\n",
       "        vertical-align: top;\n",
       "    }\n",
       "\n",
       "    .dataframe thead th {\n",
       "        text-align: right;\n",
       "    }\n",
       "</style>\n",
       "<table border=\"1\" class=\"dataframe\">\n",
       "  <thead>\n",
       "    <tr style=\"text-align: right;\">\n",
       "      <th></th>\n",
       "      <th>Name</th>\n",
       "      <th>Age</th>\n",
       "      <th>Height</th>\n",
       "    </tr>\n",
       "  </thead>\n",
       "  <tbody>\n",
       "    <tr>\n",
       "      <th>0</th>\n",
       "      <td>Alice</td>\n",
       "      <td>25.0</td>\n",
       "      <td>25.50</td>\n",
       "    </tr>\n",
       "    <tr>\n",
       "      <th>1</th>\n",
       "      <td>Unknown</td>\n",
       "      <td>20.0</td>\n",
       "      <td>30.45</td>\n",
       "    </tr>\n",
       "    <tr>\n",
       "      <th>2</th>\n",
       "      <td>Chalie</td>\n",
       "      <td>25.0</td>\n",
       "      <td>30.45</td>\n",
       "    </tr>\n",
       "    <tr>\n",
       "      <th>3</th>\n",
       "      <td>Unknown</td>\n",
       "      <td>30.0</td>\n",
       "      <td>35.65</td>\n",
       "    </tr>\n",
       "    <tr>\n",
       "      <th>4</th>\n",
       "      <td>Janet</td>\n",
       "      <td>25.0</td>\n",
       "      <td>30.45</td>\n",
       "    </tr>\n",
       "  </tbody>\n",
       "</table>\n",
       "</div>"
      ],
      "text/plain": [
       "      Name   Age  Height\n",
       "0    Alice  25.0   25.50\n",
       "1  Unknown  20.0   30.45\n",
       "2   Chalie  25.0   30.45\n",
       "3  Unknown  30.0   35.65\n",
       "4    Janet  25.0   30.45"
      ]
     },
     "execution_count": 17,
     "metadata": {},
     "output_type": "execute_result"
    }
   ],
   "source": [
    "df_filled = df.fillna({\n",
    "    \"Name\": \"Unknown\",\n",
    "    \"Age\": df[\"Age\"].mean(),\n",
    "    \"Height\": df[\"Height\"].median()\n",
    "})\n",
    "\n",
    "df_filled.head()"
   ]
  },
  {
   "cell_type": "markdown",
   "id": "dbf0ad0a-de1c-4104-a52c-34dcb670b081",
   "metadata": {},
   "source": [
    "employees = 'EmployeeID': [1, 2, 3, 4, 5, 6],\n",
    "    'Name': ['Alice', 'Bob', 'Charlie', 'David', 'Eva', 'Frank'],\n",
    "    'DepartmentID': [101, 102, 101, 103, 102, None],\n",
    "    'Age': [25, 30, None, 40, 29, 33],\n",
    "    'Salary': [50000, 60000, 55000, 70000, None, 62000]\n",
    "\n",
    "departments = 'DepartmentID': [101, 102, 103],\n",
    "    'DepartmentName': ['IT', 'HR', 'Finance'],\n",
    "    'Location': ['Lagos', 'Abuja', 'Port Harcourt']"
   ]
  },
  {
   "cell_type": "code",
   "execution_count": 19,
   "id": "0a291609-ab62-430b-b0a7-83b4a8755840",
   "metadata": {},
   "outputs": [],
   "source": [
    "#simple example data using pandas\n",
    "employees = {\n",
    "    'EmployeeID': [1, 2, 3, 4, 5, 6],\n",
    "    'Name': ['Alice', 'Bob', 'Charlie', 'David', 'Eva', 'Frank'],\n",
    "    'DepartmentID': [101, 102, 101, 103, 102, np.nan],\n",
    "    'Age': [25, 30, np.nan, 40, 29, 33],\n",
    "    'Salary': [50000, 60000, 55000, 70000, np.nan, 62000]\n",
    "}\n",
    "\n",
    "departments = {\n",
    "    'DepartmentID': [101, 102, 103],\n",
    "    'DepartmentName': ['IT', 'HR', 'Finance'],\n",
    "    'Location': ['Lagos', 'Abuja', 'Port Harcourt']\n",
    "}"
   ]
  },
  {
   "cell_type": "code",
   "execution_count": 21,
   "id": "ded4ff45-1c2d-4879-bf0a-069a1ea66d46",
   "metadata": {},
   "outputs": [],
   "source": [
    "employees_df = pd.DataFrame(employees)\n",
    "departments_df = pd.DataFrame(departments)\n",
    "\n",
    "employees_df.to_csv(\"employees.csv\", index=False)\n",
    "departments_df.to_csv(\"departments.csv\", index=False)"
   ]
  },
  {
   "cell_type": "code",
   "execution_count": 26,
   "id": "2179874b-c031-4d4a-a174-cc507185ef4f",
   "metadata": {},
   "outputs": [
    {
     "data": {
      "text/html": [
       "<div>\n",
       "<style scoped>\n",
       "    .dataframe tbody tr th:only-of-type {\n",
       "        vertical-align: middle;\n",
       "    }\n",
       "\n",
       "    .dataframe tbody tr th {\n",
       "        vertical-align: top;\n",
       "    }\n",
       "\n",
       "    .dataframe thead th {\n",
       "        text-align: right;\n",
       "    }\n",
       "</style>\n",
       "<table border=\"1\" class=\"dataframe\">\n",
       "  <thead>\n",
       "    <tr style=\"text-align: right;\">\n",
       "      <th></th>\n",
       "      <th>DepartmentID</th>\n",
       "      <th>DepartmentName</th>\n",
       "      <th>Location</th>\n",
       "    </tr>\n",
       "  </thead>\n",
       "  <tbody>\n",
       "    <tr>\n",
       "      <th>0</th>\n",
       "      <td>101</td>\n",
       "      <td>IT</td>\n",
       "      <td>Lagos</td>\n",
       "    </tr>\n",
       "    <tr>\n",
       "      <th>1</th>\n",
       "      <td>102</td>\n",
       "      <td>HR</td>\n",
       "      <td>Abuja</td>\n",
       "    </tr>\n",
       "    <tr>\n",
       "      <th>2</th>\n",
       "      <td>103</td>\n",
       "      <td>Finance</td>\n",
       "      <td>Port Harcourt</td>\n",
       "    </tr>\n",
       "  </tbody>\n",
       "</table>\n",
       "</div>"
      ],
      "text/plain": [
       "   DepartmentID DepartmentName       Location\n",
       "0           101             IT          Lagos\n",
       "1           102             HR          Abuja\n",
       "2           103        Finance  Port Harcourt"
      ]
     },
     "execution_count": 26,
     "metadata": {},
     "output_type": "execute_result"
    }
   ],
   "source": [
    "#load dataset\n",
    "empdf = pd.read_csv(\"employees.csv\")\n",
    "dptdf = pd.read_csv(\"departments.csv\")\n",
    "\n",
    "empdf.head()\n",
    "dptdf.head()"
   ]
  },
  {
   "cell_type": "code",
   "execution_count": 28,
   "id": "770afbe8-0cb2-487e-9ae1-bef3dc8416d5",
   "metadata": {},
   "outputs": [
    {
     "data": {
      "text/plain": [
       "DepartmentID\n",
       "101.0    52500.0\n",
       "102.0    60000.0\n",
       "103.0    70000.0\n",
       "Name: Salary, dtype: float64"
      ]
     },
     "execution_count": 28,
     "metadata": {},
     "output_type": "execute_result"
    }
   ],
   "source": [
    "avg_salary = empdf.groupby(\"DepartmentID\")['Salary'].mean()\n",
    "avg_salary"
   ]
  },
  {
   "cell_type": "code",
   "execution_count": 29,
   "id": "50aa4839-6f01-4815-8b36-e0e763c9148a",
   "metadata": {},
   "outputs": [
    {
     "data": {
      "text/html": [
       "<div>\n",
       "<style scoped>\n",
       "    .dataframe tbody tr th:only-of-type {\n",
       "        vertical-align: middle;\n",
       "    }\n",
       "\n",
       "    .dataframe tbody tr th {\n",
       "        vertical-align: top;\n",
       "    }\n",
       "\n",
       "    .dataframe thead th {\n",
       "        text-align: right;\n",
       "    }\n",
       "</style>\n",
       "<table border=\"1\" class=\"dataframe\">\n",
       "  <thead>\n",
       "    <tr style=\"text-align: right;\">\n",
       "      <th></th>\n",
       "      <th>EmployeeID</th>\n",
       "      <th>Name</th>\n",
       "      <th>DepartmentID</th>\n",
       "      <th>Age</th>\n",
       "      <th>Salary</th>\n",
       "      <th>DepartmentName</th>\n",
       "      <th>Location</th>\n",
       "    </tr>\n",
       "  </thead>\n",
       "  <tbody>\n",
       "    <tr>\n",
       "      <th>0</th>\n",
       "      <td>1</td>\n",
       "      <td>Alice</td>\n",
       "      <td>101.0</td>\n",
       "      <td>25.0</td>\n",
       "      <td>50000.0</td>\n",
       "      <td>IT</td>\n",
       "      <td>Lagos</td>\n",
       "    </tr>\n",
       "    <tr>\n",
       "      <th>1</th>\n",
       "      <td>2</td>\n",
       "      <td>Bob</td>\n",
       "      <td>102.0</td>\n",
       "      <td>30.0</td>\n",
       "      <td>60000.0</td>\n",
       "      <td>HR</td>\n",
       "      <td>Abuja</td>\n",
       "    </tr>\n",
       "    <tr>\n",
       "      <th>2</th>\n",
       "      <td>3</td>\n",
       "      <td>Charlie</td>\n",
       "      <td>101.0</td>\n",
       "      <td>NaN</td>\n",
       "      <td>55000.0</td>\n",
       "      <td>IT</td>\n",
       "      <td>Lagos</td>\n",
       "    </tr>\n",
       "    <tr>\n",
       "      <th>3</th>\n",
       "      <td>4</td>\n",
       "      <td>David</td>\n",
       "      <td>103.0</td>\n",
       "      <td>40.0</td>\n",
       "      <td>70000.0</td>\n",
       "      <td>Finance</td>\n",
       "      <td>Port Harcourt</td>\n",
       "    </tr>\n",
       "    <tr>\n",
       "      <th>4</th>\n",
       "      <td>5</td>\n",
       "      <td>Eva</td>\n",
       "      <td>102.0</td>\n",
       "      <td>29.0</td>\n",
       "      <td>NaN</td>\n",
       "      <td>HR</td>\n",
       "      <td>Abuja</td>\n",
       "    </tr>\n",
       "  </tbody>\n",
       "</table>\n",
       "</div>"
      ],
      "text/plain": [
       "   EmployeeID     Name  DepartmentID   Age   Salary DepartmentName  \\\n",
       "0           1    Alice         101.0  25.0  50000.0             IT   \n",
       "1           2      Bob         102.0  30.0  60000.0             HR   \n",
       "2           3  Charlie         101.0   NaN  55000.0             IT   \n",
       "3           4    David         103.0  40.0  70000.0        Finance   \n",
       "4           5      Eva         102.0  29.0      NaN             HR   \n",
       "\n",
       "        Location  \n",
       "0          Lagos  \n",
       "1          Abuja  \n",
       "2          Lagos  \n",
       "3  Port Harcourt  \n",
       "4          Abuja  "
      ]
     },
     "execution_count": 29,
     "metadata": {},
     "output_type": "execute_result"
    }
   ],
   "source": [
    "merge_df = pd.merge(empdf, dptdf, on=\"DepartmentID\")\n",
    "merge_df"
   ]
  },
  {
   "cell_type": "code",
   "execution_count": 31,
   "id": "949a0f3d-7a8a-4c11-bd1b-5b6c0324c501",
   "metadata": {},
   "outputs": [
    {
     "data": {
      "text/plain": [
       "EmployeeID        0\n",
       "Name              0\n",
       "DepartmentID      0\n",
       "Age               1\n",
       "Salary            1\n",
       "DepartmentName    0\n",
       "Location          0\n",
       "dtype: int64"
      ]
     },
     "execution_count": 31,
     "metadata": {},
     "output_type": "execute_result"
    }
   ],
   "source": [
    "merge_df.isnull().sum()"
   ]
  },
  {
   "cell_type": "code",
   "execution_count": 35,
   "id": "080c04c2-9cf2-4adb-aa40-6acc41dabc45",
   "metadata": {},
   "outputs": [
    {
     "data": {
      "text/html": [
       "<div>\n",
       "<style scoped>\n",
       "    .dataframe tbody tr th:only-of-type {\n",
       "        vertical-align: middle;\n",
       "    }\n",
       "\n",
       "    .dataframe tbody tr th {\n",
       "        vertical-align: top;\n",
       "    }\n",
       "\n",
       "    .dataframe thead th {\n",
       "        text-align: right;\n",
       "    }\n",
       "</style>\n",
       "<table border=\"1\" class=\"dataframe\">\n",
       "  <thead>\n",
       "    <tr style=\"text-align: right;\">\n",
       "      <th></th>\n",
       "      <th>EmployeeID</th>\n",
       "      <th>Name</th>\n",
       "      <th>DepartmentID</th>\n",
       "      <th>Age</th>\n",
       "      <th>Salary</th>\n",
       "      <th>DepartmentName</th>\n",
       "      <th>Location</th>\n",
       "    </tr>\n",
       "  </thead>\n",
       "  <tbody>\n",
       "    <tr>\n",
       "      <th>0</th>\n",
       "      <td>1</td>\n",
       "      <td>Alice</td>\n",
       "      <td>101.0</td>\n",
       "      <td>25.0</td>\n",
       "      <td>50000.0</td>\n",
       "      <td>IT</td>\n",
       "      <td>Lagos</td>\n",
       "    </tr>\n",
       "    <tr>\n",
       "      <th>1</th>\n",
       "      <td>2</td>\n",
       "      <td>Bob</td>\n",
       "      <td>102.0</td>\n",
       "      <td>30.0</td>\n",
       "      <td>60000.0</td>\n",
       "      <td>HR</td>\n",
       "      <td>Abuja</td>\n",
       "    </tr>\n",
       "    <tr>\n",
       "      <th>2</th>\n",
       "      <td>3</td>\n",
       "      <td>Charlie</td>\n",
       "      <td>101.0</td>\n",
       "      <td>31.0</td>\n",
       "      <td>55000.0</td>\n",
       "      <td>IT</td>\n",
       "      <td>Lagos</td>\n",
       "    </tr>\n",
       "    <tr>\n",
       "      <th>3</th>\n",
       "      <td>4</td>\n",
       "      <td>David</td>\n",
       "      <td>103.0</td>\n",
       "      <td>40.0</td>\n",
       "      <td>70000.0</td>\n",
       "      <td>Finance</td>\n",
       "      <td>Port Harcourt</td>\n",
       "    </tr>\n",
       "    <tr>\n",
       "      <th>4</th>\n",
       "      <td>5</td>\n",
       "      <td>Eva</td>\n",
       "      <td>102.0</td>\n",
       "      <td>29.0</td>\n",
       "      <td>57500.0</td>\n",
       "      <td>HR</td>\n",
       "      <td>Abuja</td>\n",
       "    </tr>\n",
       "  </tbody>\n",
       "</table>\n",
       "</div>"
      ],
      "text/plain": [
       "   EmployeeID     Name  DepartmentID   Age   Salary DepartmentName  \\\n",
       "0           1    Alice         101.0  25.0  50000.0             IT   \n",
       "1           2      Bob         102.0  30.0  60000.0             HR   \n",
       "2           3  Charlie         101.0  31.0  55000.0             IT   \n",
       "3           4    David         103.0  40.0  70000.0        Finance   \n",
       "4           5      Eva         102.0  29.0  57500.0             HR   \n",
       "\n",
       "        Location  \n",
       "0          Lagos  \n",
       "1          Abuja  \n",
       "2          Lagos  \n",
       "3  Port Harcourt  \n",
       "4          Abuja  "
      ]
     },
     "execution_count": 35,
     "metadata": {},
     "output_type": "execute_result"
    }
   ],
   "source": [
    "merge_df['Age'] = merge_df['Age'].fillna(merge_df[\"Age\"].mean())\n",
    "merge_df['Salary'] = merge_df[\"Salary\"].fillna(merge_df['Salary'].median())\n",
    "merge_df\n"
   ]
  },
  {
   "cell_type": "code",
   "execution_count": 36,
   "id": "ab8217af-7c91-44f7-8dbc-ee40d9198239",
   "metadata": {},
   "outputs": [
    {
     "data": {
      "text/plain": [
       "EmployeeID        0\n",
       "Name              0\n",
       "DepartmentID      0\n",
       "Age               0\n",
       "Salary            0\n",
       "DepartmentName    0\n",
       "Location          0\n",
       "dtype: int64"
      ]
     },
     "execution_count": 36,
     "metadata": {},
     "output_type": "execute_result"
    }
   ],
   "source": [
    "merge_df.isnull().sum()"
   ]
  },
  {
   "cell_type": "code",
   "execution_count": null,
   "id": "d81239bc-f180-437d-8469-bfbc4bd788e2",
   "metadata": {},
   "outputs": [],
   "source": []
  }
 ],
 "metadata": {
  "kernelspec": {
   "display_name": "Python 3 (ipykernel)",
   "language": "python",
   "name": "python3"
  },
  "language_info": {
   "codemirror_mode": {
    "name": "ipython",
    "version": 3
   },
   "file_extension": ".py",
   "mimetype": "text/x-python",
   "name": "python",
   "nbconvert_exporter": "python",
   "pygments_lexer": "ipython3",
   "version": "3.10.9"
  }
 },
 "nbformat": 4,
 "nbformat_minor": 5
}
